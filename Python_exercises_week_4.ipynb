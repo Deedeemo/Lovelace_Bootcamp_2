{
 "cells": [
  {
   "cell_type": "code",
   "execution_count": 2,
   "metadata": {
    "ExecuteTime": {
     "end_time": "2019-10-22T06:43:40.725657Z",
     "start_time": "2019-10-22T06:43:40.697245Z"
    }
   },
   "outputs": [
    {
     "data": {
      "text/plain": [
       "'/tmp/spyder-dav/notebooks'"
      ]
     },
     "execution_count": 2,
     "metadata": {},
     "output_type": "execute_result"
    }
   ],
   "source": [
    "import os\n",
    "os.getcwd()"
   ]
  },
  {
   "cell_type": "code",
   "execution_count": 1,
   "metadata": {
    "ExecuteTime": {
     "end_time": "2019-10-22T06:43:23.869343Z",
     "start_time": "2019-10-22T06:43:23.750628Z"
    }
   },
   "outputs": [
    {
     "ename": "FileNotFoundError",
     "evalue": "[Errno 2] No such file or directory: './car_data.pkl'",
     "output_type": "error",
     "traceback": [
      "Traceback \u001b[0;36m(most recent call last)\u001b[0m:\n",
      "  File \u001b[1;32m\"<ipython-input-1-fd5ef630f59c>\"\u001b[0m, line \u001b[1;32m5\u001b[0m, in \u001b[1;35m<module>\u001b[0m\n    automobile = pd.read_pickle('./car_data.pkl')\n",
      "  File \u001b[1;32m\"/home/dav/miniconda3/envs/fabio_proj/lib/python3.6/site-packages/pandas/io/pickle.py\"\u001b[0m, line \u001b[1;32m145\u001b[0m, in \u001b[1;35mread_pickle\u001b[0m\n    f, fh = _get_handle(path, \"rb\", compression=compression, is_text=False)\n",
      "\u001b[0;36m  File \u001b[0;32m\"/home/dav/miniconda3/envs/fabio_proj/lib/python3.6/site-packages/pandas/io/common.py\"\u001b[0;36m, line \u001b[0;32m403\u001b[0;36m, in \u001b[0;35m_get_handle\u001b[0;36m\u001b[0m\n\u001b[0;31m    f = open(path_or_buf, mode)\u001b[0m\n",
      "\u001b[0;31mFileNotFoundError\u001b[0m\u001b[0;31m:\u001b[0m [Errno 2] No such file or directory: './car_data.pkl'\n"
     ]
    }
   ],
   "source": [
    "# import libraries\n",
    "import pandas as pd\n",
    "import numpy as np\n",
    "import matplotlib.pyplot as plt\n",
    "automobile = pd.read_pickle('./car_data.pkl')\n",
    "automobile.head()"
   ]
  },
  {
   "cell_type": "code",
   "execution_count": null,
   "metadata": {},
   "outputs": [],
   "source": [
    "## List comprehension\n",
    "# create a new dataset with all the columns named differently, replacing '-' with '_'"
   ]
  },
  {
   "cell_type": "code",
   "execution_count": null,
   "metadata": {},
   "outputs": [],
   "source": []
  },
  {
   "cell_type": "markdown",
   "metadata": {},
   "source": [
    "### Vehicle make frequency diagram: how many vehicles by make?"
   ]
  },
  {
   "cell_type": "code",
   "execution_count": 3,
   "metadata": {
    "ExecuteTime": {
     "end_time": "2019-10-22T06:58:07.647660Z",
     "start_time": "2019-10-22T06:58:07.616629Z"
    }
   },
   "outputs": [
    {
     "ename": "NameError",
     "evalue": "name 'automobile' is not defined",
     "output_type": "error",
     "traceback": [
      "Traceback \u001b[0;36m(most recent call last)\u001b[0m:\n",
      "\u001b[0;36m  File \u001b[0;32m\"<ipython-input-3-01f006373568>\"\u001b[0;36m, line \u001b[0;32m1\u001b[0;36m, in \u001b[0;35m<module>\u001b[0;36m\u001b[0m\n\u001b[0;31m    automobile.make.value_counts().nlargest(10).plot(kind='bar', figsize=(15,5))\u001b[0m\n",
      "\u001b[0;31mNameError\u001b[0m\u001b[0;31m:\u001b[0m name 'automobile' is not defined\n"
     ]
    }
   ],
   "source": []
  },
  {
   "cell_type": "markdown",
   "metadata": {},
   "source": [
    "### Insurance risk ratings Histogram: Distributions of risk ratings"
   ]
  },
  {
   "cell_type": "code",
   "execution_count": null,
   "metadata": {},
   "outputs": [],
   "source": []
  },
  {
   "cell_type": "markdown",
   "metadata": {
    "ExecuteTime": {
     "end_time": "2019-10-22T06:59:42.654919Z",
     "start_time": "2019-10-22T06:59:42.629359Z"
    }
   },
   "source": [
    "### Fuel type bar chart :count of fuel type"
   ]
  },
  {
   "cell_type": "code",
   "execution_count": null,
   "metadata": {},
   "outputs": [],
   "source": []
  },
  {
   "cell_type": "markdown",
   "metadata": {},
   "source": [
    "## Boxplot of Price and make\n",
    "### what are your findings?"
   ]
  },
  {
   "cell_type": "code",
   "execution_count": null,
   "metadata": {},
   "outputs": [],
   "source": []
  },
  {
   "cell_type": "code",
   "execution_count": 5,
   "metadata": {
    "ExecuteTime": {
     "end_time": "2019-10-22T07:06:42.355013Z",
     "start_time": "2019-10-22T07:06:42.330658Z"
    }
   },
   "outputs": [],
   "source": [
    "## Scatter plot of price and engine size\n",
    "### what are your findings?"
   ]
  },
  {
   "cell_type": "code",
   "execution_count": null,
   "metadata": {},
   "outputs": [],
   "source": []
  },
  {
   "cell_type": "code",
   "execution_count": null,
   "metadata": {},
   "outputs": [],
   "source": [
    "## Boxplot of Drive wheels and Price\n"
   ]
  },
  {
   "cell_type": "code",
   "execution_count": null,
   "metadata": {},
   "outputs": [],
   "source": []
  },
  {
   "cell_type": "code",
   "execution_count": null,
   "metadata": {},
   "outputs": [],
   "source": [
    "### Scatter plot of City MPG, Curb weight based on Make of the car (scatter plot with different color per make)"
   ]
  }
 ],
 "metadata": {
  "kernelspec": {
   "display_name": "Python 3 (Spyder)",
   "language": "python3",
   "name": "python3"
  },
  "language_info": {
   "codemirror_mode": {
    "name": "ipython",
    "version": 3
   },
   "file_extension": ".py",
   "mimetype": "text/x-python",
   "name": "python",
   "nbconvert_exporter": "python",
   "pygments_lexer": "ipython3",
   "version": "3.6.7"
  }
 },
 "nbformat": 4,
 "nbformat_minor": 2
}
