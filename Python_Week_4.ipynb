{
 "cells": [
  {
   "attachments": {
    "logo.png": {
     "image/png": "[encoded data removed]"
    }
   },
   "cell_type": "markdown",
   "metadata": {},
   "source": [
    "![logo.png](attachment:logo.png)"
   ]
  },
  {
   "cell_type": "markdown",
   "metadata": {},
   "source": [
    "# Week 4: Exploratory Data Analysis"
   ]
  },
  {
   "cell_type": "markdown",
   "metadata": {},
   "source": [
    "- Exploratory Data Analysis\n",
    "- Analysing datasets to summarize their main characteristics, usually with visual methods\n",
    "- Performing investigation on data to:\n",
    "   - discover patterns\n",
    "   - detect anomalies\n",
    "   - test hypothesis \n",
    "   - check assumption,\n",
    "\n",
    "using summary statistics and graphical representations"
   ]
  },
  {
   "cell_type": "markdown",
   "metadata": {},
   "source": [
    "## Read data"
   ]
  },
  {
   "cell_type": "code",
   "execution_count": null,
   "metadata": {},
   "outputs": [],
   "source": [
    "import pandas as pd\n",
    "\n",
    "salaries_url = 'https://rotterdamai001.blob.core.windows.net/python/mlb/core/Salaries.csv'\n",
    "sal_df = pd.read_csv(salaries_url)"
   ]
  },
  {
   "cell_type": "code",
   "execution_count": null,
   "metadata": {
    "ExecuteTime": {
     "end_time": "2019-09-30T06:00:11.677370Z",
     "start_time": "2019-09-30T06:00:11.534263Z"
    }
   },
   "outputs": [],
   "source": [
    "sal_df.dtypes"
   ]
  },
  {
   "cell_type": "code",
   "execution_count": null,
   "metadata": {
    "ExecuteTime": {
     "end_time": "2019-09-30T06:00:12.402240Z",
     "start_time": "2019-09-30T06:00:12.325572Z"
    }
   },
   "outputs": [],
   "source": [
    "sal_df.head()"
   ]
  },
  {
   "cell_type": "code",
   "execution_count": null,
   "metadata": {},
   "outputs": [],
   "source": [
    "sal_df.info()"
   ]
  },
  {
   "cell_type": "code",
   "execution_count": null,
   "metadata": {},
   "outputs": [],
   "source": [
    "sal_df.describe()"
   ]
  },
  {
   "cell_type": "markdown",
   "metadata": {},
   "source": [
    "**Inference**\n",
    "- Year ranges from 1985 - 2016\n",
    "- Minimum salary is zero and maximum salary is 33M "
   ]
  },
  {
   "cell_type": "markdown",
   "metadata": {},
   "source": [
    "Before starting our analysis, it is important to understand what type of data is stored in our dataset\n",
    "- Generally, there are two broad types of variables (columns) in a dataset - Numerical and Categorical variables \n",
    "- Read more about variables here (http://www-ist.massey.ac.nz/dstirlin/CAST/CAST/Hstructures/structures_c2.html)"
   ]
  },
  {
   "cell_type": "code",
   "execution_count": null,
   "metadata": {},
   "outputs": [],
   "source": [
    "#######################################################\n",
    "################### Challenge 1  ######################\n",
    "#######################################################\n",
    "# For each variable in salaries dataframe, identify it's type "
   ]
  },
  {
   "cell_type": "markdown",
   "metadata": {},
   "source": [
    "### Use Case: We are scouting for baseball players so we want to understand dynamics behind the players salary. To do so, we start investigating their salaries over time to get to know our data a bit better"
   ]
  },
  {
   "cell_type": "markdown",
   "metadata": {},
   "source": [
    "### 1. First, let's try to understand how salaries are distributed"
   ]
  },
  {
   "cell_type": "code",
   "execution_count": null,
   "metadata": {},
   "outputs": [],
   "source": [
    "#Import packages\n",
    "import matplotlib.pyplot as plt \n",
    "import seaborn as sns"
   ]
  },
  {
   "cell_type": "code",
   "execution_count": null,
   "metadata": {},
   "outputs": [],
   "source": [
    "salary = sal_df['salary']"
   ]
  },
  {
   "cell_type": "markdown",
   "metadata": {},
   "source": [
    "**Min and Max are quite different, between 0 to 30 Million. Lets look at the distribution**"
   ]
  },
  {
   "cell_type": "code",
   "execution_count": null,
   "metadata": {},
   "outputs": [],
   "source": [
    "plt.hist(salary, bins = 200);"
   ]
  },
  {
   "cell_type": "code",
   "execution_count": null,
   "metadata": {},
   "outputs": [],
   "source": [
    "plt.hist(salary, bins = 200); \n",
    "plt.axvline(salary.mean(), color='r', linestyle='dashed', linewidth=1);\n",
    "plt.axvline(salary.median(), color='g', linestyle='dashed', linewidth=1);"
   ]
  },
  {
   "cell_type": "markdown",
   "metadata": {},
   "source": [
    "- This kind of analysis where you try to understand a single variable (salary) is called **univariate analysis**\n",
    "- The main purpose of univariate analysis is to describe the data and find patterns that exist within it"
   ]
  },
  {
   "cell_type": "code",
   "execution_count": null,
   "metadata": {},
   "outputs": [],
   "source": [
    "#######################################################\n",
    "################### Challenge 2  ######################\n",
    "#######################################################\n",
    "\n",
    "#  Now try to plot the salary distribution for a specific year, say, 2013\n"
   ]
  },
  {
   "cell_type": "markdown",
   "metadata": {},
   "source": [
    "**Inference**\n",
    "- It shows a so-called '**long-tail**' distribution, which means there is a high variance in data\n",
    "- i.e., a lot of players have a similar 'base salary' (between about 0 - 10M) but very few players have very high salaries (long-tail)"
   ]
  },
  {
   "cell_type": "markdown",
   "metadata": {},
   "source": [
    "**Lets zoom-in in the first part, where most of the data is concentrated**"
   ]
  },
  {
   "cell_type": "code",
   "execution_count": null,
   "metadata": {},
   "outputs": [],
   "source": [
    "lower_than_million = sal_df['salary'][sal_df['salary'] < 1000000]\n",
    "plt.hist(lower_than_million, bins = 200); "
   ]
  },
  {
   "cell_type": "markdown",
   "metadata": {},
   "source": [
    "**We can also set paramets in the plotting part and obtain similar results**"
   ]
  },
  {
   "cell_type": "code",
   "execution_count": null,
   "metadata": {
    "scrolled": true
   },
   "outputs": [],
   "source": [
    "#Zoom in to 2013 salary data - Method 2\n",
    "plt.hist(year_data['salary'], bins = 200); \n",
    "plt.xlim(0,1000000);"
   ]
  },
  {
   "cell_type": "code",
   "execution_count": null,
   "metadata": {},
   "outputs": [],
   "source": [
    "#######################################################\n",
    "################### Challenge 3  ######################\n",
    "#######################################################\n",
    "\n",
    "# Now try to make a function that given a year, can plot the salaries lower than one million!"
   ]
  },
  {
   "cell_type": "code",
   "execution_count": null,
   "metadata": {},
   "outputs": [],
   "source": [
    "#TIP: You can also plot distributions of all numerical values in a dataset using one line\n",
    "sal_df.hist(bins=50);"
   ]
  },
  {
   "cell_type": "markdown",
   "metadata": {},
   "source": [
    "**Let's try to see how salary is influenced by other factors** "
   ]
  },
  {
   "cell_type": "markdown",
   "metadata": {},
   "source": [
    "### 2. Salary vs Year\n",
    "**How could we plot year and salary against each other?**"
   ]
  },
  {
   "cell_type": "code",
   "execution_count": null,
   "metadata": {
    "ExecuteTime": {
     "end_time": "2019-09-30T06:00:14.544586Z",
     "start_time": "2019-09-30T06:00:13.357999Z"
    }
   },
   "outputs": [],
   "source": [
    "plt.scatter(sal_df['yearID'], sal_df['salary']);"
   ]
  },
  {
   "cell_type": "markdown",
   "metadata": {
    "ExecuteTime": {
     "end_time": "2019-09-29T10:06:03.612626Z",
     "start_time": "2019-09-29T10:06:03.588535Z"
    }
   },
   "source": [
    "**The Y column seems weird, the salaries are higher than 3.0..? Lets make it clearer**"
   ]
  },
  {
   "cell_type": "code",
   "execution_count": null,
   "metadata": {
    "ExecuteTime": {
     "end_time": "2019-09-30T06:00:15.344557Z",
     "start_time": "2019-09-30T06:00:14.670977Z"
    }
   },
   "outputs": [],
   "source": [
    "plt.scatter( sal_df['yearID'], sal_df['salary']);\n",
    "plt.ylabel('salary in 10 MLN $');\n",
    "plt.xlabel('Year');\n",
    "plt.title('Salaries over time');"
   ]
  },
  {
   "cell_type": "code",
   "execution_count": null,
   "metadata": {
    "ExecuteTime": {
     "end_time": "2019-09-29T14:57:26.032216Z",
     "start_time": "2019-09-29T14:57:25.992860Z"
    }
   },
   "outputs": [],
   "source": [
    "med_salary_over_time = sal_df.groupby(['yearID'])['salary'].median()\n",
    "mean_salary_over_time = sal_df.groupby(['yearID'])['salary'].mean()"
   ]
  },
  {
   "cell_type": "code",
   "execution_count": null,
   "metadata": {
    "ExecuteTime": {
     "end_time": "2019-09-29T14:57:26.431806Z",
     "start_time": "2019-09-29T14:57:26.040925Z"
    }
   },
   "outputs": [],
   "source": [
    "plt.plot(med_salary_over_time, label = 'median');\n",
    "plt.plot(mean_salary_over_time, label = 'mean');\n",
    "plt.legend();"
   ]
  },
  {
   "cell_type": "markdown",
   "metadata": {
    "ExecuteTime": {
     "end_time": "2019-09-29T10:05:19.329606Z",
     "start_time": "2019-09-29T10:05:19.306317Z"
    }
   },
   "source": [
    "**Inference**\n",
    "- average salaries increased over time (inflation could play a role)\n",
    "- our data availability is higher over time (or maybe just more players are playing baseball) \n",
    "\n"
   ]
  },
  {
   "cell_type": "markdown",
   "metadata": {},
   "source": [
    "- We now analysed two variables, salary and year, simultaneously. This is called bi-variate analysis\n",
    "- Bivariate analysis is used to find out if there is a relationship between two different variables."
   ]
  },
  {
   "cell_type": "markdown",
   "metadata": {},
   "source": [
    "**Salaries could also be different for different countries**"
   ]
  },
  {
   "cell_type": "markdown",
   "metadata": {},
   "source": [
    "### 3. Salary vs Year vs Country\n",
    "**How does salary vary over time per country?** (Multi-variate analysis)"
   ]
  },
  {
   "cell_type": "code",
   "execution_count": null,
   "metadata": {},
   "outputs": [],
   "source": [
    "#First, lets find how many countries are there\n",
    "countries = sal_df.lgID.unique()\n",
    "print(countries)"
   ]
  },
  {
   "cell_type": "markdown",
   "metadata": {},
   "source": [
    "- Country is a categorical value\n",
    "- Lets differentiate countries using color coding"
   ]
  },
  {
   "cell_type": "code",
   "execution_count": null,
   "metadata": {
    "ExecuteTime": {
     "end_time": "2019-09-30T06:07:54.673987Z",
     "start_time": "2019-09-30T06:07:45.590898Z"
    }
   },
   "outputs": [],
   "source": [
    "import matplotlib.cm as cm\n",
    "import numpy as np \n",
    "\n",
    "colors = cm.brg(np.linspace(0, 1, len(countries))) #Assigns a color (in RGBA) from the 'rainbow' palette to each country\n",
    "col = []\n",
    "\n",
    "col = [colors[0] if x=='NL' else colors[1] for x in sal_df.lgID]\n",
    "scatter = plt.scatter( sal_df['yearID'], sal_df['salary'], c = col);\n",
    "plt.ylabel('salary in MLN $');\n",
    "plt.xlabel('Year');\n",
    "plt.title('Salaries over time');"
   ]
  },
  {
   "cell_type": "code",
   "execution_count": null,
   "metadata": {},
   "outputs": [],
   "source": [
    "#######################################################\n",
    "################### Challenge 4  ######################\n",
    "#######################################################\n",
    "\n",
    "# Make the chart more readable by adding a legend\n"
   ]
  },
  {
   "cell_type": "markdown",
   "metadata": {},
   "source": [
    "Read more about colormap representation here: https://matplotlib.org/3.1.1/gallery/color/colormap_reference.html"
   ]
  },
  {
   "cell_type": "markdown",
   "metadata": {},
   "source": [
    "Best practices for using colors in a visualization: \n",
    " - https://theblog.adobe.com/the-power-of-the-palette-why-color-is-key-in-data-visualization-and-how-to-use-it/\n",
    " - https://blog.datawrapper.de/colors/"
   ]
  },
  {
   "cell_type": "markdown",
   "metadata": {},
   "source": [
    "### Certain teams might have a bigger budget compared to others. Let's see how salary varies  between the teams"
   ]
  },
  {
   "cell_type": "markdown",
   "metadata": {},
   "source": [
    "### 4. Salary vs Team"
   ]
  },
  {
   "cell_type": "markdown",
   "metadata": {},
   "source": [
    "**Let's focus on latest salaries (year > 2015)**"
   ]
  },
  {
   "cell_type": "code",
   "execution_count": null,
   "metadata": {},
   "outputs": [],
   "source": [
    "latest_data = sal_df.loc[sal_df['yearID'] >= 2015]\n",
    "plt.figure(figsize=(20, 5))\n",
    "plt.scatter( latest_data['teamID'], latest_data['salary']);\n",
    "plt.ylabel('salary in 10 MLN $');\n",
    "plt.xlabel('TeamID');\n",
    "plt.title('Salaries per team');"
   ]
  },
  {
   "cell_type": "markdown",
   "metadata": {},
   "source": [
    "**Now let's use box-plot to understand the distribution**"
   ]
  },
  {
   "cell_type": "markdown",
   "metadata": {},
   "source": [
    "Boxplots are a standardized way of displaying the distribution of data based on a five number summary (“minimum”, first quartile (Q1), median, third quartile (Q3), and “maximum”)."
   ]
  },
  {
   "cell_type": "code",
   "execution_count": null,
   "metadata": {},
   "outputs": [],
   "source": [
    "sns.boxplot(x=\"teamID\", y=\"salary\", data=latest_data);\n",
    "plt.xticks(rotation = 90);"
   ]
  },
  {
   "cell_type": "markdown",
   "metadata": {},
   "source": [
    "### 5. Team composition"
   ]
  },
  {
   "cell_type": "code",
   "execution_count": null,
   "metadata": {
    "ExecuteTime": {
     "end_time": "2019-09-29T15:08:29.861004Z",
     "start_time": "2019-09-29T15:08:29.509882Z"
    }
   },
   "outputs": [],
   "source": [
    "grouped = latest_data.groupby(['teamID'])\n",
    "count_team = grouped['playerID'].count()\n",
    "\n",
    "print(\"Number of teams: \", len(count_team))\n",
    "print(count_team.head())\n",
    "\n",
    "plt.figure(figsize=(15, 5))\n",
    "plt.bar(count_team.index, count_team);\n",
    "plt.title('Number of players per team');"
   ]
  },
  {
   "cell_type": "markdown",
   "metadata": {},
   "source": [
    "### Important! Remember before drawing conclusions from your analysis\n",
    " - Correlation is not Causation. Just because two things appear to be related to one another doesn't mean that one causes the other. (http://www.tylervigen.com/spurious-correlations)"
   ]
  }
 ],
 "metadata": {
  "kernelspec": {
   "display_name": "Python 3",
   "language": "python",
   "name": "python3"
  },
  "language_info": {
   "codemirror_mode": {
    "name": "ipython",
    "version": 3
   },
   "file_extension": ".py",
   "mimetype": "text/x-python",
   "name": "python",
   "nbconvert_exporter": "python",
   "pygments_lexer": "ipython3",
   "version": "3.6.6"
  }
 },
 "nbformat": 4,
 "nbformat_minor": 2
}
